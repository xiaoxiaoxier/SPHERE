{
 "cells": [
  {
   "cell_type": "code",
   "execution_count": 1,
   "id": "56ece4ad",
   "metadata": {},
   "outputs": [
    {
     "name": "stdout",
     "output_type": "stream",
     "text": [
      "公共基因数量: 485\n"
     ]
    },
    {
     "name": "stderr",
     "output_type": "stream",
     "text": [
      "/home/wangzhuo/miniconda3/envs/spatial_310/lib/python3.10/site-packages/scanpy/preprocessing/_highly_variable_genes.py:412: UserWarning: `n_top_genes` > number of normalized dispersions, returning all genes with normalized dispersions.\n",
      "  warnings.warn(msg, UserWarning)\n",
      "/home/wangzhuo/miniconda3/envs/spatial_310/lib/python3.10/site-packages/scanpy/preprocessing/_scale.py:316: UserWarning: Received a view of an AnnData. Making a copy.\n",
      "  view_to_actual(adata)\n",
      "2025-09-16 14:50:30.435354: I tensorflow/core/util/port.cc:153] oneDNN custom operations are on. You may see slightly different numerical results due to floating-point round-off errors from different computation orders. To turn them off, set the environment variable `TF_ENABLE_ONEDNN_OPTS=0`.\n",
      "2025-09-16 14:50:30.441267: E external/local_xla/xla/stream_executor/cuda/cuda_fft.cc:467] Unable to register cuFFT factory: Attempting to register factory for plugin cuFFT when one has already been registered\n",
      "WARNING: All log messages before absl::InitializeLog() is called are written to STDERR\n",
      "E0000 00:00:1758005430.447454   39978 cuda_dnn.cc:8579] Unable to register cuDNN factory: Attempting to register factory for plugin cuDNN when one has already been registered\n",
      "E0000 00:00:1758005430.449395   39978 cuda_blas.cc:1407] Unable to register cuBLAS factory: Attempting to register factory for plugin cuBLAS when one has already been registered\n",
      "W0000 00:00:1758005430.454398   39978 computation_placer.cc:177] computation placer already registered. Please check linkage and avoid linking the same target more than once.\n",
      "W0000 00:00:1758005430.454402   39978 computation_placer.cc:177] computation placer already registered. Please check linkage and avoid linking the same target more than once.\n",
      "W0000 00:00:1758005430.454403   39978 computation_placer.cc:177] computation placer already registered. Please check linkage and avoid linking the same target more than once.\n",
      "W0000 00:00:1758005430.454404   39978 computation_placer.cc:177] computation placer already registered. Please check linkage and avoid linking the same target more than once.\n",
      "2025-09-16 14:50:30.456281: I tensorflow/core/platform/cpu_feature_guard.cc:210] This TensorFlow binary is optimized to use available CPU instructions in performance-critical operations.\n",
      "To enable the following instructions: AVX2 AVX_VNNI FMA, in other operations, rebuild TensorFlow with the appropriate compiler flags.\n",
      "/home/wangzhuo/Experiments/visiumHD/sphere/clustering.py:13: FutureWarning: In the future, the default backend for leiden will be igraph instead of leidenalg.\n",
      "\n",
      " To achieve the future defaults please pass: flavor=\"igraph\" and n_iterations=2.  directed must also be False to work with igraph's implementation.\n",
      "  sc.tl.leiden(adata, resolution=resolution)\n"
     ]
    },
    {
     "name": "stdout",
     "output_type": "stream",
     "text": [
      "聚类完成！\n"
     ]
    }
   ],
   "source": [
    "import pandas as pd\n",
    "import geopandas as gpd\n",
    "from shapely import wkt\n",
    "from sphere.assignment import sphere_assignment\n",
    "from sphere.clustering import run_clustering\n",
    "\n",
    "# ===== 配置 =====\n",
    "patch_id = \"patch_0_0.csv\"\n",
    "base_dir = \"/home/wangzhuo/data/enact_synthetic_output/chunks\"\n",
    "\n",
    "bin_path = f\"{base_dir}/bins_gdf/{patch_id}\"\n",
    "cell_path = f\"{base_dir}/cells_gdf/{patch_id}\"\n",
    "gt_path   = f\"{base_dir}/ground_truth_nuclei/{patch_id}\"\n",
    "\n",
    "# ===== 读取数据 =====\n",
    "bin_df = pd.read_csv(bin_path)\n",
    "bin_df[\"geometry\"] = bin_df[\"geometry\"].apply(wkt.loads)\n",
    "bin_gdf = gpd.GeoDataFrame(bin_df, geometry=\"geometry\")\n",
    "\n",
    "cell_df = pd.read_csv(cell_path)\n",
    "cell_df[\"geometry\"] = cell_df[\"geometry\"].apply(wkt.loads)\n",
    "cell_gdf = gpd.GeoDataFrame(cell_df, geometry=\"geometry\")\n",
    "\n",
    "gt = pd.read_csv(gt_path).set_index(\"cell_id\")\n",
    "gt = gt.apply(pd.to_numeric, errors='coerce').fillna(0)\n",
    "\n",
    "# ===== 公共基因 =====\n",
    "exclude_cols = {'assigned_bin_id', 'row', 'column', 'geometry', 'cell_id'}\n",
    "common_genes = sorted(list(set(bin_gdf.columns) & set(gt.columns) - exclude_cols))\n",
    "\n",
    "print(f\"公共基因数量: {len(common_genes)}\")\n",
    "\n",
    "# ===== 运行 SPHERE =====\n",
    "pred_sphere = sphere_assignment(bin_gdf, cell_gdf, common_genes)\n",
    "\n",
    "# ===== 聚类 =====\n",
    "adata_clustered = run_clustering(pred_sphere)\n",
    "print(\"聚类完成！\")"
   ]
  },
  {
   "cell_type": "code",
   "execution_count": null,
   "id": "124bf68f",
   "metadata": {},
   "outputs": [],
   "source": []
  }
 ],
 "metadata": {
  "kernelspec": {
   "display_name": "spatial310",
   "language": "python",
   "name": "spatial_310"
  },
  "language_info": {
   "codemirror_mode": {
    "name": "ipython",
    "version": 3
   },
   "file_extension": ".py",
   "mimetype": "text/x-python",
   "name": "python",
   "nbconvert_exporter": "python",
   "pygments_lexer": "ipython3",
   "version": "3.10.16"
  }
 },
 "nbformat": 4,
 "nbformat_minor": 5
}
